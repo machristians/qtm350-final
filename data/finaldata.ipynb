{
 "cells": [
  {
   "cell_type": "code",
   "execution_count": 1,
   "id": "c9bca476",
   "metadata": {},
   "outputs": [],
   "source": [
    "from wbgapi import data as wbdata\n",
    "import pandas as pd\n",
    "\n",
    "# Define indicators\n",
    "population_indicators = {\n",
    "    'total_population': 'SP.POP.TOTL',\n",
    "    'population_growth': 'SP.POP.GROW',\n",
    "    'urban_population_percent': 'SP.URB.TOTL.IN.ZS',\n",
    "    'rural_population_percent': 'SP.RUR.TOTL.ZS',\n",
    "    'fertility_rate': 'SP.DYN.TFRT.IN',\n",
    "    'birth_rate': 'SP.DYN.CBRT.IN',\n",
    "    'death_rate': 'SP.DYN.CDRT.IN',\n",
    "    'infant_mortality_rate': 'SP.DYN.IMRT.IN',\n",
    "    'under_5_mortality_rate': 'SH.DYN.MORT',\n",
    "    'adolescent_fertility_rate': 'SP.ADO.TFRT',\n",
    "    'net_migration': 'SM.POP.NETM',\n",
    "    'population_density': 'EN.POP.DNST',\n",
    "    'life_expectancy': 'SP.DYN.LE00.IN'\n",
    "}\n",
    "\n",
    "# Countries\n",
    "country_codes = ['BRA', 'MEX', 'ARG', 'COL']\n",
    "\n",
    "# Download wide-format data for 2022\n",
    "df = wbdata.DataFrame(\n",
    "    population_indicators.values(),\n",
    "    economy=country_codes,\n",
    "    time=2022,\n",
    "    skipBlanks=True,\n",
    "    labels=True\n",
    ").reset_index()\n",
    "\n",
    "# Drop unwanted columns (if any)\n",
    "df.drop(columns=['economy'], errors='ignore', inplace=True)\n",
    "\n",
    "# Rename columns using your friendly keys\n",
    "df.rename(columns=lambda x: {v: k for k, v in population_indicators.items()}.get(x, x).lower(), inplace=True)\n",
    "\n",
    "# Save to CSV\n",
    "df.to_csv('wdi_population_.csv', index=False)"
   ]
  },
  {
   "cell_type": "code",
   "execution_count": 2,
   "id": "70fe720e",
   "metadata": {},
   "outputs": [
    {
     "data": {
      "text/plain": [
       "4"
      ]
     },
     "execution_count": 2,
     "metadata": {},
     "output_type": "execute_result"
    }
   ],
   "source": [
    "import sqlite3\n",
    "\n",
    "# Connect to or create the database\n",
    "conn = sqlite3.connect('wdi_data.db')\n",
    "\n",
    "# Load CSV into DataFrame\n",
    "df = pd.read_csv('wdi_population_.csv')\n",
    "\n",
    "# Write the data to SQL\n",
    "df.to_sql('wdi_data', conn, if_exists='replace', index=False)"
   ]
  },
  {
   "cell_type": "code",
   "execution_count": 3,
   "id": "2fb47b69",
   "metadata": {},
   "outputs": [
    {
     "name": "stdout",
     "output_type": "stream",
     "text": [
      "Index(['country', 'population_density', 'under_5_mortality_rate',\n",
      "       'net_migration', 'adolescent_fertility_rate', 'birth_rate',\n",
      "       'death_rate', 'infant_mortality_rate', 'life_expectancy',\n",
      "       'fertility_rate', 'population_growth', 'total_population',\n",
      "       'rural_population_percent', 'urban_population_percent'],\n",
      "      dtype='object')\n"
     ]
    }
   ],
   "source": [
    "import pandas as pd\n",
    "\n",
    "df = pd.read_csv('wdi_population_.csv')\n",
    "print(df.columns)"
   ]
  }
 ],
 "metadata": {
  "kernelspec": {
   "display_name": "base",
   "language": "python",
   "name": "python3"
  },
  "language_info": {
   "codemirror_mode": {
    "name": "ipython",
    "version": 3
   },
   "file_extension": ".py",
   "mimetype": "text/x-python",
   "name": "python",
   "nbconvert_exporter": "python",
   "pygments_lexer": "ipython3",
   "version": "3.12.4"
  }
 },
 "nbformat": 4,
 "nbformat_minor": 5
}
